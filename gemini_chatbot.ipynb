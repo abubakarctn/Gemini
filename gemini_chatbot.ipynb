{
  "nbformat": 4,
  "nbformat_minor": 0,
  "metadata": {
    "colab": {
      "provenance": []
    },
    "kernelspec": {
      "name": "python3",
      "display_name": "Python 3"
    },
    "language_info": {
      "name": "python"
    }
  },
  "cells": [
    {
      "cell_type": "code",
      "execution_count": 1,
      "metadata": {
        "id": "UoZtxfMGYH2Q"
      },
      "outputs": [],
      "source": [
        "#Install the Python SDK"
      ]
    },
    {
      "cell_type": "code",
      "source": [
        "!pip install -q -U google-generativeai"
      ],
      "metadata": {
        "id": "Wsy3hTH6YU1b"
      },
      "execution_count": 2,
      "outputs": []
    },
    {
      "cell_type": "code",
      "source": [
        "#Import packages"
      ],
      "metadata": {
        "id": "ukgkoIeTYXKi"
      },
      "execution_count": 3,
      "outputs": []
    },
    {
      "cell_type": "code",
      "source": [
        "import pathlib\n",
        "import textwrap\n",
        "\n",
        "import google.generativeai as genai\n",
        "\n",
        "# Used to securely store your API key\n",
        "from google.colab import userdata\n",
        "\n",
        "from IPython.display import display\n",
        "from IPython.display import Markdown\n",
        "\n",
        "\n",
        "def to_markdown(text):\n",
        "  text = text.replace('•', '  *')\n",
        "  return Markdown(textwrap.indent(text, '> ', predicate=lambda _: True))"
      ],
      "metadata": {
        "id": "jam4GU7oYb-1"
      },
      "execution_count": 4,
      "outputs": []
    },
    {
      "cell_type": "code",
      "source": [
        "#Setup your API key"
      ],
      "metadata": {
        "id": "vP7fAFXDYicy"
      },
      "execution_count": 26,
      "outputs": []
    },
    {
      "cell_type": "code",
      "source": [
        "GOOGLE_API_KEY=userdata.get('Mykey')\n",
        "\n",
        "genai.configure(api_key=GOOGLE_API_KEY)"
      ],
      "metadata": {
        "id": "UGV1oCNkYqny"
      },
      "execution_count": 6,
      "outputs": []
    },
    {
      "cell_type": "code",
      "source": [
        "#List models"
      ],
      "metadata": {
        "id": "LesvDPHkYyWD"
      },
      "execution_count": 7,
      "outputs": []
    },
    {
      "cell_type": "code",
      "source": [
        "for m in genai.list_models():\n",
        "  if 'generateContent' in m.supported_generation_methods:\n",
        "    print(m.name)"
      ],
      "metadata": {
        "colab": {
          "base_uri": "https://localhost:8080/",
          "height": 52
        },
        "id": "mAgaZ1j-Y19w",
        "outputId": "e069da1b-4d67-4dc6-89c8-3adda73a8066"
      },
      "execution_count": 8,
      "outputs": [
        {
          "output_type": "stream",
          "name": "stdout",
          "text": [
            "models/gemini-pro\n",
            "models/gemini-pro-vision\n"
          ]
        }
      ]
    },
    {
      "cell_type": "code",
      "source": [
        "#**Generate text from text inputs**"
      ],
      "metadata": {
        "id": "z4LVdR_vY3wA"
      },
      "execution_count": 9,
      "outputs": []
    },
    {
      "cell_type": "code",
      "source": [
        "model = genai.GenerativeModel('gemini-pro')"
      ],
      "metadata": {
        "id": "d0Dcp2FtZMqB"
      },
      "execution_count": 12,
      "outputs": []
    },
    {
      "cell_type": "code",
      "source": [
        "%%time\n",
        "response = model.generate_content(\"What is life ?\")"
      ],
      "metadata": {
        "colab": {
          "base_uri": "https://localhost:8080/",
          "height": 52
        },
        "id": "b8EKS83SY_Kh",
        "outputId": "2b250bbe-04cb-4452-dd3f-f051a141e93c"
      },
      "execution_count": 16,
      "outputs": [
        {
          "output_type": "stream",
          "name": "stdout",
          "text": [
            "CPU times: user 91.6 ms, sys: 11 ms, total: 103 ms\n",
            "Wall time: 6.72 s\n"
          ]
        }
      ]
    },
    {
      "cell_type": "code",
      "source": [
        "response.text"
      ],
      "metadata": {
        "colab": {
          "base_uri": "https://localhost:8080/",
          "height": 123
        },
        "id": "1qBTI8dbZFA4",
        "outputId": "a11f0d8b-1edd-4499-d104-5b3c33259388"
      },
      "execution_count": 17,
      "outputs": [
        {
          "output_type": "execute_result",
          "data": {
            "text/plain": [
              "\"- **Scientific Definition:** Life is a set of complex processes that distinguish an organism from non-living matter, characterized by the ability to metabolize, reproduce, respond to stimuli, adapt to the environment, and maintain homeostasis. \\n\\n\\n- **Philosophical Definition:**  Life is the characteristic that distinguishes a living organism from a nonliving object, involving the capacity for growth, reproduction, functional activity, and consciousness or awareness. It is the essential quality that allows an organism to exist, function, and adapt to its environment.\\n\\n\\n- **Religious Definition:** Life is considered a sacred gift from a higher power or deity, often associated with a notion of purpose, meaning, and spiritual existence. In religious traditions, life may be viewed as a journey of self-discovery, spiritual growth, and connection with the divine.\\n\\n\\n- **Holistic Definition:** Life is an interconnected web of relationships, processes, and phenomena that exist as a dynamic and evolving system. This definition emphasizes the interdependence of all living organisms and their interactions with the environment, highlighting the complexity and interconnectedness of life's myriad manifestations.\\n\\n- **Adaptive Definition:** Life is a self-organizing and adaptive process that involves the ability to respond to changes in the environment, evolve, and maintain a certain level of complexity or organization. In this sense, life exhibits the ability to adapt and adjust its structures, behaviors, and strategies to survive and thrive in diverse and changing environments.\""
            ],
            "application/vnd.google.colaboratory.intrinsic+json": {
              "type": "string"
            }
          },
          "metadata": {},
          "execution_count": 17
        }
      ]
    },
    {
      "cell_type": "code",
      "source": [
        "to_markdown(response.text)"
      ],
      "metadata": {
        "colab": {
          "base_uri": "https://localhost:8080/",
          "height": 295
        },
        "id": "VHVmGnmgZY61",
        "outputId": "e6cd248e-0ede-43d4-e1dd-3143de7f8820"
      },
      "execution_count": 18,
      "outputs": [
        {
          "output_type": "execute_result",
          "data": {
            "text/plain": [
              "<IPython.core.display.Markdown object>"
            ],
            "text/markdown": "> - **Scientific Definition:** Life is a set of complex processes that distinguish an organism from non-living matter, characterized by the ability to metabolize, reproduce, respond to stimuli, adapt to the environment, and maintain homeostasis. \n> \n> \n> - **Philosophical Definition:**  Life is the characteristic that distinguishes a living organism from a nonliving object, involving the capacity for growth, reproduction, functional activity, and consciousness or awareness. It is the essential quality that allows an organism to exist, function, and adapt to its environment.\n> \n> \n> - **Religious Definition:** Life is considered a sacred gift from a higher power or deity, often associated with a notion of purpose, meaning, and spiritual existence. In religious traditions, life may be viewed as a journey of self-discovery, spiritual growth, and connection with the divine.\n> \n> \n> - **Holistic Definition:** Life is an interconnected web of relationships, processes, and phenomena that exist as a dynamic and evolving system. This definition emphasizes the interdependence of all living organisms and their interactions with the environment, highlighting the complexity and interconnectedness of life's myriad manifestations.\n> \n> - **Adaptive Definition:** Life is a self-organizing and adaptive process that involves the ability to respond to changes in the environment, evolve, and maintain a certain level of complexity or organization. In this sense, life exhibits the ability to adapt and adjust its structures, behaviors, and strategies to survive and thrive in diverse and changing environments."
          },
          "metadata": {},
          "execution_count": 18
        }
      ]
    },
    {
      "cell_type": "code",
      "source": [
        "response.prompt_feedback"
      ],
      "metadata": {
        "colab": {
          "base_uri": "https://localhost:8080/"
        },
        "id": "sYmOgy-jZtGl",
        "outputId": "0fa5f301-4d40-4ade-cda8-fe9f6aa8b6d4"
      },
      "execution_count": 19,
      "outputs": [
        {
          "output_type": "execute_result",
          "data": {
            "text/plain": [
              "safety_ratings {\n",
              "  category: HARM_CATEGORY_SEXUALLY_EXPLICIT\n",
              "  probability: NEGLIGIBLE\n",
              "}\n",
              "safety_ratings {\n",
              "  category: HARM_CATEGORY_HATE_SPEECH\n",
              "  probability: NEGLIGIBLE\n",
              "}\n",
              "safety_ratings {\n",
              "  category: HARM_CATEGORY_HARASSMENT\n",
              "  probability: NEGLIGIBLE\n",
              "}\n",
              "safety_ratings {\n",
              "  category: HARM_CATEGORY_DANGEROUS_CONTENT\n",
              "  probability: NEGLIGIBLE\n",
              "}"
            ]
          },
          "metadata": {},
          "execution_count": 19
        }
      ]
    },
    {
      "cell_type": "code",
      "source": [
        "response.candidates"
      ],
      "metadata": {
        "colab": {
          "base_uri": "https://localhost:8080/"
        },
        "id": "WalemlO9ZwLc",
        "outputId": "b8c8ac08-e108-4966-d554-2e24ab52ab27"
      },
      "execution_count": 20,
      "outputs": [
        {
          "output_type": "execute_result",
          "data": {
            "text/plain": [
              "[content {\n",
              "  parts {\n",
              "    text: \"- **Scientific Definition:** Life is a set of complex processes that distinguish an organism from non-living matter, characterized by the ability to metabolize, reproduce, respond to stimuli, adapt to the environment, and maintain homeostasis. \\n\\n\\n- **Philosophical Definition:**  Life is the characteristic that distinguishes a living organism from a nonliving object, involving the capacity for growth, reproduction, functional activity, and consciousness or awareness. It is the essential quality that allows an organism to exist, function, and adapt to its environment.\\n\\n\\n- **Religious Definition:** Life is considered a sacred gift from a higher power or deity, often associated with a notion of purpose, meaning, and spiritual existence. In religious traditions, life may be viewed as a journey of self-discovery, spiritual growth, and connection with the divine.\\n\\n\\n- **Holistic Definition:** Life is an interconnected web of relationships, processes, and phenomena that exist as a dynamic and evolving system. This definition emphasizes the interdependence of all living organisms and their interactions with the environment, highlighting the complexity and interconnectedness of life\\'s myriad manifestations.\\n\\n- **Adaptive Definition:** Life is a self-organizing and adaptive process that involves the ability to respond to changes in the environment, evolve, and maintain a certain level of complexity or organization. In this sense, life exhibits the ability to adapt and adjust its structures, behaviors, and strategies to survive and thrive in diverse and changing environments.\"\n",
              "  }\n",
              "  role: \"model\"\n",
              "}\n",
              "finish_reason: STOP\n",
              "index: 0\n",
              "safety_ratings {\n",
              "  category: HARM_CATEGORY_SEXUALLY_EXPLICIT\n",
              "  probability: NEGLIGIBLE\n",
              "}\n",
              "safety_ratings {\n",
              "  category: HARM_CATEGORY_HATE_SPEECH\n",
              "  probability: NEGLIGIBLE\n",
              "}\n",
              "safety_ratings {\n",
              "  category: HARM_CATEGORY_HARASSMENT\n",
              "  probability: NEGLIGIBLE\n",
              "}\n",
              "safety_ratings {\n",
              "  category: HARM_CATEGORY_DANGEROUS_CONTENT\n",
              "  probability: NEGLIGIBLE\n",
              "}\n",
              "]"
            ]
          },
          "metadata": {},
          "execution_count": 20
        }
      ]
    },
    {
      "cell_type": "markdown",
      "source": [
        "By default, the model returns a response after completing the entire generation process. You can also stream the response as it is being generated, and the model will return chunks of the response as soon as they are generated.\n",
        "\n",
        "To stream responses, use GenerativeModel.generate_content(..., stream=True)."
      ],
      "metadata": {
        "id": "JCzReYYRZ2rj"
      }
    },
    {
      "cell_type": "code",
      "source": [
        "%%time\n",
        "response = model.generate_content(\"What is the meaning of life?\", stream=True)"
      ],
      "metadata": {
        "colab": {
          "base_uri": "https://localhost:8080/",
          "height": 52
        },
        "id": "knHjvOhkZyj9",
        "outputId": "98ac8e0f-777c-4947-db6c-81f240ac625a"
      },
      "execution_count": 21,
      "outputs": [
        {
          "output_type": "stream",
          "name": "stdout",
          "text": [
            "CPU times: user 133 ms, sys: 18 ms, total: 151 ms\n",
            "Wall time: 10.7 s\n"
          ]
        }
      ]
    },
    {
      "cell_type": "code",
      "source": [
        "for chunk in response:\n",
        "  print(chunk.text)\n",
        "  print(\"_\"*80)"
      ],
      "metadata": {
        "colab": {
          "base_uri": "https://localhost:8080/"
        },
        "id": "RVrx806zZ5mN",
        "outputId": "9639a6e2-d056-401d-bf7d-f74e6b93ab08"
      },
      "execution_count": 22,
      "outputs": [
        {
          "output_type": "stream",
          "name": "stdout",
          "text": [
            "1. **Eudaimonia (Aristotle):** Aristotle believed that the meaning\n",
            "________________________________________________________________________________\n",
            " of life is eudaimonia, often translated as \"flourishing\" or \"well-being.\" He argued that the highest good for humans is to live\n",
            "________________________________________________________________________________\n",
            " in accordance with reason and virtue, and that this leads to a life of happiness and fulfillment.\n",
            "\n",
            "2. **Hedonism (Epicurus):** Epicurus believed that the meaning of life is to seek pleasure and avoid pain. He argued that the highest good is to experience as much pleasure as possible, while minimizing\n",
            "________________________________________________________________________________\n",
            " pain and suffering.\n",
            "\n",
            "3. **Stoicism (Marcus Aurelius):** The Stoics believed that the meaning of life is to live in accordance with nature and reason. They argued that the highest good is to be virtuous and to accept whatever happens to us with equanimity.\n",
            "\n",
            "4. **Existentialism (Jean-Paul Sartre):** Existentialists believe that the meaning of life is to create one's own meaning. They argue that we are all free to choose our own values and to create our own lives.\n",
            "\n",
            "5. **Absurdism (Albert Camus):** Absurdists believe that the meaning of life\n",
            "________________________________________________________________________________\n",
            " is to accept the absurdity of existence. They argue that life is meaningless, but that we can still find meaning in our lives by revolting against the absurd and living authentically.\n",
            "\n",
            "6. **Pragmatism (William James):** Pragmatists believe that the meaning of life is to find what works for you. They argue that there is no one right answer to the question of meaning, and that each individual must find their own meaning through experience and experimentation.\n",
            "\n",
            "7. **Buddhism (Siddhartha Gautama):** Buddhists believe that the meaning of life is to end suffering. They argue that suffering is caused by attachment to the ego and to worldly desires, and that the way to end suffering is to practice compassion and mindfulness.\n",
            "\n",
            "8. **Hinduism (Vedas):** Hindus believe that the meaning of life is to achieve moksha, or liberation from the cycle of rebirth. They argue that moksha can be achieved through a variety of paths, including yoga, meditation, and devotion to God.\n",
            "\n",
            "9. **Judaism (Torah):** Jews believe that the meaning of life is to fulfill the commandments of God. They argue that the commandments are a guide to living a righteous and fulfilling life, and that by following them, we can come closer\n",
            "________________________________________________________________________________\n",
            " to God.\n",
            "\n",
            "10. **Christianity (Bible):** Christians believe that the meaning of life is to love God and to love our neighbors. They argue that God created us to be in relationship with Him and with each other, and that by loving each other, we can fulfill our purpose in life.\n",
            "________________________________________________________________________________\n"
          ]
        }
      ]
    },
    {
      "cell_type": "markdown",
      "source": [
        "When streaming, some response attributes are not available until you've iterated through all the response chunks. This is demonstrated below:\n"
      ],
      "metadata": {
        "id": "cN3o1JlcaFXb"
      }
    },
    {
      "cell_type": "code",
      "source": [
        "response = model.generate_content(\"What is the meaning of life?\", stream=True)"
      ],
      "metadata": {
        "id": "jCqLzrGDZ-ot"
      },
      "execution_count": 23,
      "outputs": []
    },
    {
      "cell_type": "markdown",
      "source": [
        "The prompt_feedback attribute works:\n"
      ],
      "metadata": {
        "id": "Xb9o2_QjaMuk"
      }
    },
    {
      "cell_type": "code",
      "source": [
        "response.prompt_feedback\n"
      ],
      "metadata": {
        "colab": {
          "base_uri": "https://localhost:8080/"
        },
        "id": "l7eVA3_YaJR8",
        "outputId": "ae16ba4b-c4c7-4c11-e7a0-f014fa310708"
      },
      "execution_count": 24,
      "outputs": [
        {
          "output_type": "execute_result",
          "data": {
            "text/plain": [
              "safety_ratings {\n",
              "  category: HARM_CATEGORY_SEXUALLY_EXPLICIT\n",
              "  probability: NEGLIGIBLE\n",
              "}\n",
              "safety_ratings {\n",
              "  category: HARM_CATEGORY_HATE_SPEECH\n",
              "  probability: NEGLIGIBLE\n",
              "}\n",
              "safety_ratings {\n",
              "  category: HARM_CATEGORY_HARASSMENT\n",
              "  probability: NEGLIGIBLE\n",
              "}\n",
              "safety_ratings {\n",
              "  category: HARM_CATEGORY_DANGEROUS_CONTENT\n",
              "  probability: NEGLIGIBLE\n",
              "}"
            ]
          },
          "metadata": {},
          "execution_count": 24
        }
      ]
    },
    {
      "cell_type": "code",
      "source": [
        "try:\n",
        "  response.text\n",
        "except Exception as e:\n",
        "  print(f'{type(e).__name__}: {e}')"
      ],
      "metadata": {
        "colab": {
          "base_uri": "https://localhost:8080/"
        },
        "id": "HsWJff8-aP7s",
        "outputId": "701ab572-fb81-4d2f-ff86-34b38042bbfc"
      },
      "execution_count": 25,
      "outputs": [
        {
          "output_type": "stream",
          "name": "stdout",
          "text": [
            "IncompleteIterationError: Please let the response complete iteration before accessing the final accumulated\n",
            "attributes (or call `response.resolve()`)\n"
          ]
        }
      ]
    },
    {
      "cell_type": "code",
      "source": [],
      "metadata": {
        "id": "odCYtazDaVV0"
      },
      "execution_count": null,
      "outputs": []
    },
    {
      "cell_type": "markdown",
      "source": [
        "**Chat conversations**"
      ],
      "metadata": {
        "id": "a2gYT3XieGdx"
      }
    },
    {
      "cell_type": "code",
      "source": [
        "model = genai.GenerativeModel('gemini-pro')\n",
        "chat = model.start_chat(history=[])\n",
        "chat"
      ],
      "metadata": {
        "colab": {
          "base_uri": "https://localhost:8080/"
        },
        "id": "XL-dKdWreGAs",
        "outputId": "bfb9c1b8-e102-4674-fde0-477a15fe94f8"
      },
      "execution_count": 27,
      "outputs": [
        {
          "output_type": "execute_result",
          "data": {
            "text/plain": [
              "<google.generativeai.generative_models.ChatSession at 0x7ce4f9cbabc0>"
            ]
          },
          "metadata": {},
          "execution_count": 27
        }
      ]
    },
    {
      "cell_type": "code",
      "source": [
        "response = chat.send_message(\"In one sentence, explain how a computer works to a young child.\")\n",
        "to_markdown(response.text)"
      ],
      "metadata": {
        "colab": {
          "base_uri": "https://localhost:8080/",
          "height": 62
        },
        "id": "WBKZE2fCd4wC",
        "outputId": "2b8c185e-3a1c-4670-ec74-c68a471b82a9"
      },
      "execution_count": 28,
      "outputs": [
        {
          "output_type": "execute_result",
          "data": {
            "text/plain": [
              "<IPython.core.display.Markdown object>"
            ],
            "text/markdown": "> A computer is like a magic box that can do many things when you tell it what to do!"
          },
          "metadata": {},
          "execution_count": 28
        }
      ]
    },
    {
      "cell_type": "code",
      "source": [
        "chat.history"
      ],
      "metadata": {
        "colab": {
          "base_uri": "https://localhost:8080/"
        },
        "id": "kkR9WnD7eNJy",
        "outputId": "dd8682c4-97ee-4a0c-9727-82eb8932bb0c"
      },
      "execution_count": 29,
      "outputs": [
        {
          "output_type": "execute_result",
          "data": {
            "text/plain": [
              "[parts {\n",
              "   text: \"In one sentence, explain how a computer works to a young child.\"\n",
              " }\n",
              " role: \"user\",\n",
              " parts {\n",
              "   text: \"A computer is like a magic box that can do many things when you tell it what to do!\"\n",
              " }\n",
              " role: \"model\"]"
            ]
          },
          "metadata": {},
          "execution_count": 29
        }
      ]
    },
    {
      "cell_type": "code",
      "source": [
        "response = chat.send_message(\"Okay, how about a more detailed explanation to a high schooler?\", stream=True)\n",
        "\n",
        "for chunk in response:\n",
        "  print(chunk.text)\n",
        "  print(\"_\"*80)"
      ],
      "metadata": {
        "colab": {
          "base_uri": "https://localhost:8080/",
          "height": 211
        },
        "id": "GpN2jorNeVLA",
        "outputId": "065c7d2d-3fb5-419d-de0d-090f3666380b"
      },
      "execution_count": 30,
      "outputs": [
        {
          "output_type": "stream",
          "name": "stdout",
          "text": [
            "A computer is an electronic device that can be programmed to carry out a set of\n",
            "________________________________________________________________________________\n",
            " instructions, often called a program. It consists of hardware, which includes physical components like the processor, memory, and storage, and software, which comprises the instructions\n",
            "________________________________________________________________________________\n",
            " that tell the computer what to do. The processor, also known as the CPU, is the brain of the computer and executes the instructions. Memory, or RAM, temporarily stores data and instructions that are being processed, while storage devices such as hard disk drives or solid-state drives permanently store data and programs. Input devices\n",
            "________________________________________________________________________________\n",
            " like keyboards and mice allow users to interact with the computer, while output devices like monitors and printers display or print the results of computations or other operations.\n",
            "\n",
            "In summary, a computer is a programmable machine that can store, process, and output data and information under the control of a set of instructions.\n",
            "________________________________________________________________________________\n"
          ]
        }
      ]
    },
    {
      "cell_type": "code",
      "source": [
        "for message in chat.history:\n",
        "  if message.role == 'You are here yo assist a Teacher for teaching children':\n",
        "    display(to_markdown(f'**{message.role}**: {message.parts[0].text}'))\n",
        "  else:\n",
        "    display(to_markdown(f'{message.role}: {message.parts[0].text}'))"
      ],
      "metadata": {
        "colab": {
          "base_uri": "https://localhost:8080/",
          "height": 267
        },
        "id": "xZNyYQ8neYcp",
        "outputId": "28daf6db-edaa-40ca-c26d-20336991da55"
      },
      "execution_count": 31,
      "outputs": [
        {
          "output_type": "display_data",
          "data": {
            "text/plain": [
              "<IPython.core.display.Markdown object>"
            ],
            "text/markdown": "> user: In one sentence, explain how a computer works to a young child."
          },
          "metadata": {}
        },
        {
          "output_type": "display_data",
          "data": {
            "text/plain": [
              "<IPython.core.display.Markdown object>"
            ],
            "text/markdown": "> model: A computer is like a magic box that can do many things when you tell it what to do!"
          },
          "metadata": {}
        },
        {
          "output_type": "display_data",
          "data": {
            "text/plain": [
              "<IPython.core.display.Markdown object>"
            ],
            "text/markdown": "> user: Okay, how about a more detailed explanation to a high schooler?"
          },
          "metadata": {}
        },
        {
          "output_type": "display_data",
          "data": {
            "text/plain": [
              "<IPython.core.display.Markdown object>"
            ],
            "text/markdown": "> model: A computer is an electronic device that can be programmed to carry out a set of instructions, often called a program. It consists of hardware, which includes physical components like the processor, memory, and storage, and software, which comprises the instructions that tell the computer what to do. The processor, also known as the CPU, is the brain of the computer and executes the instructions. Memory, or RAM, temporarily stores data and instructions that are being processed, while storage devices such as hard disk drives or solid-state drives permanently store data and programs. Input devices like keyboards and mice allow users to interact with the computer, while output devices like monitors and printers display or print the results of computations or other operations.\n> \n> In summary, a computer is a programmable machine that can store, process, and output data and information under the control of a set of instructions."
          },
          "metadata": {}
        }
      ]
    },
    {
      "cell_type": "markdown",
      "source": [
        "**Use embeddings**"
      ],
      "metadata": {
        "id": "jN_c3WDDfSEO"
      }
    },
    {
      "cell_type": "code",
      "source": [
        "result = genai.embed_content(\n",
        "    model=\"models/embedding-001\",\n",
        "    content=\"how i can teach well?\",\n",
        "    task_type=\"retrieval_document\",\n",
        "    title=\"Embedding of single string\")\n",
        "\n",
        "# 1 input > 1 vector output\n",
        "print(str(result['embedding'])[:50], '... TRIMMED]')"
      ],
      "metadata": {
        "colab": {
          "base_uri": "https://localhost:8080/",
          "height": 34
        },
        "id": "WMZuIXTsevJB",
        "outputId": "9bc2bbf8-6b8a-4aaf-b9c8-83abc794ce6b"
      },
      "execution_count": 32,
      "outputs": [
        {
          "output_type": "stream",
          "name": "stdout",
          "text": [
            "[0.02260764, 0.004664133, 0.03912094, 0.0060536554 ... TRIMMED]\n"
          ]
        }
      ]
    },
    {
      "cell_type": "markdown",
      "source": [
        "Note: The retrieval_document task type is the only task that accepts a title.\n",
        "\n",
        "To handle batches of strings, pass a list of strings in content:"
      ],
      "metadata": {
        "id": "f43JJjrMfmU8"
      }
    },
    {
      "cell_type": "code",
      "source": [
        "result = genai.embed_content(\n",
        "    model=\"models/embedding-001\",\n",
        "    content=[\n",
        "      'What is the meaning of life?',\n",
        "      'How much wood would a woodchuck chuck?',\n",
        "      'How does the brain work?',\n",
        "      \"how i can teach well?\"],\n",
        "    task_type=\"retrieval_document\",\n",
        "    title=\"Embedding of list of strings\")\n",
        "\n",
        "# A list of inputs > A list of vectors output\n",
        "for v in result['embedding']:\n",
        "  print(str(v)[:50], '... TRIMMED ...')"
      ],
      "metadata": {
        "colab": {
          "base_uri": "https://localhost:8080/",
          "height": 86
        },
        "id": "Dz4Qu1ltfgbP",
        "outputId": "8cf18e61-1258-425d-ff58-823e3b59b698"
      },
      "execution_count": 33,
      "outputs": [
        {
          "output_type": "stream",
          "name": "stdout",
          "text": [
            "[0.0040260437, 0.004124458, -0.014209415, -0.00183 ... TRIMMED ...\n",
            "[-0.004049845, -0.0075574904, -0.0073463684, -0.03 ... TRIMMED ...\n",
            "[0.025310587, -0.0080734305, -0.029902633, 0.01160 ... TRIMMED ...\n",
            "[0.02503743, 0.022164688, 0.041609593, 0.014568144 ... TRIMMED ...\n"
          ]
        }
      ]
    },
    {
      "cell_type": "code",
      "source": [
        "response.candidates[0].content\n"
      ],
      "metadata": {
        "colab": {
          "base_uri": "https://localhost:8080/"
        },
        "id": "fJvWCg2zfqFq",
        "outputId": "5ef74a7a-8e90-4115-bc6b-51032910cc40"
      },
      "execution_count": 34,
      "outputs": [
        {
          "output_type": "execute_result",
          "data": {
            "text/plain": [
              "parts {\n",
              "  text: \"A computer is an electronic device that can be programmed to carry out a set of instructions, often called a program. It consists of hardware, which includes physical components like the processor, memory, and storage, and software, which comprises the instructions that tell the computer what to do. The processor, also known as the CPU, is the brain of the computer and executes the instructions. Memory, or RAM, temporarily stores data and instructions that are being processed, while storage devices such as hard disk drives or solid-state drives permanently store data and programs. Input devices like keyboards and mice allow users to interact with the computer, while output devices like monitors and printers display or print the results of computations or other operations.\\n\\nIn summary, a computer is a programmable machine that can store, process, and output data and information under the control of a set of instructions.\"\n",
              "}\n",
              "role: \"model\""
            ]
          },
          "metadata": {},
          "execution_count": 34
        }
      ]
    },
    {
      "cell_type": "code",
      "source": [
        "result = genai.embed_content(\n",
        "    model = 'models/embedding-001',\n",
        "    content = response.candidates[0].content)\n",
        "\n",
        "# 1 input > 1 vector output\n",
        "print(str(result['embedding'])[:50], '... TRIMMED ...')"
      ],
      "metadata": {
        "colab": {
          "base_uri": "https://localhost:8080/",
          "height": 34
        },
        "id": "wnOuD2Saf-zt",
        "outputId": "2b6ffa57-e716-4f69-a8a2-37a0f9442b02"
      },
      "execution_count": 35,
      "outputs": [
        {
          "output_type": "stream",
          "name": "stdout",
          "text": [
            "[0.005816124, -0.036204133, 0.004268166, 0.0242565 ... TRIMMED ...\n"
          ]
        }
      ]
    },
    {
      "cell_type": "code",
      "source": [
        "chat.history"
      ],
      "metadata": {
        "colab": {
          "base_uri": "https://localhost:8080/"
        },
        "id": "osZULW8DgB9t",
        "outputId": "78a539d7-a223-4c12-c749-49f7fe872255"
      },
      "execution_count": 36,
      "outputs": [
        {
          "output_type": "execute_result",
          "data": {
            "text/plain": [
              "[parts {\n",
              "   text: \"In one sentence, explain how a computer works to a young child.\"\n",
              " }\n",
              " role: \"user\",\n",
              " parts {\n",
              "   text: \"A computer is like a magic box that can do many things when you tell it what to do!\"\n",
              " }\n",
              " role: \"model\",\n",
              " parts {\n",
              "   text: \"Okay, how about a more detailed explanation to a high schooler?\"\n",
              " }\n",
              " role: \"user\",\n",
              " parts {\n",
              "   text: \"A computer is an electronic device that can be programmed to carry out a set of instructions, often called a program. It consists of hardware, which includes physical components like the processor, memory, and storage, and software, which comprises the instructions that tell the computer what to do. The processor, also known as the CPU, is the brain of the computer and executes the instructions. Memory, or RAM, temporarily stores data and instructions that are being processed, while storage devices such as hard disk drives or solid-state drives permanently store data and programs. Input devices like keyboards and mice allow users to interact with the computer, while output devices like monitors and printers display or print the results of computations or other operations.\\n\\nIn summary, a computer is a programmable machine that can store, process, and output data and information under the control of a set of instructions.\"\n",
              " }\n",
              " role: \"model\"]"
            ]
          },
          "metadata": {},
          "execution_count": 36
        }
      ]
    },
    {
      "cell_type": "code",
      "source": [
        "result = genai.embed_content(\n",
        "    model = 'models/embedding-001',\n",
        "    content = chat.history)\n",
        "\n",
        "# 1 input > 1 vector output\n",
        "for i,v in enumerate(result['embedding']):\n",
        "  print(str(v)[:50], '... TRIMMED...')"
      ],
      "metadata": {
        "colab": {
          "base_uri": "https://localhost:8080/",
          "height": 86
        },
        "id": "bkJWHmjjgFAs",
        "outputId": "b57bb504-256a-49ba-b007-449a394b216e"
      },
      "execution_count": 37,
      "outputs": [
        {
          "output_type": "stream",
          "name": "stdout",
          "text": [
            "[-0.014632266, -0.042202696, -0.015757175, 0.01548 ... TRIMMED...\n",
            "[-0.03704981, -0.02199058, 0.011430039, 0.01014303 ... TRIMMED...\n",
            "[-0.010055617, -0.07208932, -0.00011750793, -0.023 ... TRIMMED...\n",
            "[0.005816124, -0.036204133, 0.004268166, 0.0242565 ... TRIMMED...\n"
          ]
        }
      ]
    },
    {
      "cell_type": "code",
      "source": [
        "#response = model.generate_content('[Questionable prompt here]')\n",
        "response = model.generate_content('[babies are disturbing my lunch time . what should I do ?]')\n",
        "response.candidates"
      ],
      "metadata": {
        "colab": {
          "base_uri": "https://localhost:8080/",
          "height": 590
        },
        "id": "dNlTcUrbgI1F",
        "outputId": "88000750-6187-464a-89cd-f7808a139347"
      },
      "execution_count": 38,
      "outputs": [
        {
          "output_type": "execute_result",
          "data": {
            "text/plain": [
              "[content {\n",
              "  parts {\n",
              "    text: \"1. **Communicate with the Parents**:\\n   - Respectfully ask the parents of the babies if they could find a quieter area for the babies to play or feed so that you can enjoy your lunch break in peace.\\n   - Express your concerns to them in a friendly and understanding manner.\\n\\n2. **Adjust Your Lunch Schedule**:\\n   - If possible, try to adjust your lunch break to a time when the babies are likely to be napping or engaged in other activities that are less disruptive.\\n\\n3. **Find a Quieter Spot**:\\n   - Look for an alternative, quieter spot to eat your lunch where you are less likely to be disturbed by the babies. This could be a break room, a conference room, or even your car.\\n\\n4. **Use Noise-Canceling Headphones**:\\n   - Consider wearing noise-canceling headphones while eating your lunch to minimize the sound of the babies\\' cries or other noises.\\n\\n5. **Ask for Flexibility in Work Hours**:\\n   - If the situation with the babies is causing significant disruption to your work, discuss with your employer or manager the possibility of adjusting your work hours or work location to avoid the disruptive times.\\n\\n6. **Consider a Baby-Friendly Office Policy**:\\n   - If your workplace is suitable and willing, you could advocate for a baby-friendly office policy. This could involve creating a designated area for babies and their caregivers during specific hours, such as nap time, to minimize disruptions during work hours.\"\n",
              "  }\n",
              "  role: \"model\"\n",
              "}\n",
              "finish_reason: STOP\n",
              "index: 0\n",
              "safety_ratings {\n",
              "  category: HARM_CATEGORY_SEXUALLY_EXPLICIT\n",
              "  probability: NEGLIGIBLE\n",
              "}\n",
              "safety_ratings {\n",
              "  category: HARM_CATEGORY_HATE_SPEECH\n",
              "  probability: NEGLIGIBLE\n",
              "}\n",
              "safety_ratings {\n",
              "  category: HARM_CATEGORY_HARASSMENT\n",
              "  probability: NEGLIGIBLE\n",
              "}\n",
              "safety_ratings {\n",
              "  category: HARM_CATEGORY_DANGEROUS_CONTENT\n",
              "  probability: NEGLIGIBLE\n",
              "}\n",
              "]"
            ]
          },
          "metadata": {},
          "execution_count": 38
        }
      ]
    },
    {
      "cell_type": "markdown",
      "source": [
        "The prompt_feedback will tell you which safety filter blocked the prompt:\n"
      ],
      "metadata": {
        "id": "Bhehy7ppg9gQ"
      }
    },
    {
      "cell_type": "code",
      "source": [
        "response.prompt_feedback"
      ],
      "metadata": {
        "colab": {
          "base_uri": "https://localhost:8080/"
        },
        "id": "WShGP5aqgoyF",
        "outputId": "81618a01-1f0f-4124-e6e2-0f0fc693ee47"
      },
      "execution_count": 39,
      "outputs": [
        {
          "output_type": "execute_result",
          "data": {
            "text/plain": [
              "safety_ratings {\n",
              "  category: HARM_CATEGORY_SEXUALLY_EXPLICIT\n",
              "  probability: NEGLIGIBLE\n",
              "}\n",
              "safety_ratings {\n",
              "  category: HARM_CATEGORY_HATE_SPEECH\n",
              "  probability: NEGLIGIBLE\n",
              "}\n",
              "safety_ratings {\n",
              "  category: HARM_CATEGORY_HARASSMENT\n",
              "  probability: NEGLIGIBLE\n",
              "}\n",
              "safety_ratings {\n",
              "  category: HARM_CATEGORY_DANGEROUS_CONTENT\n",
              "  probability: NEGLIGIBLE\n",
              "}"
            ]
          },
          "metadata": {},
          "execution_count": 39
        }
      ]
    },
    {
      "cell_type": "markdown",
      "source": [
        "**bold Now provide the same prompt to the model with newly configured safety settings, and you may get a response.text**"
      ],
      "metadata": {
        "id": "E3-ERHT7hWdP"
      }
    },
    {
      "cell_type": "code",
      "source": [
        "#response = model.generate_content('[Questionable prompt here]',\n",
        "                                  #safety_settings={'HARASSMENT':'block_none'})\n",
        "response = model.generate_content('[babies are disturbing my lunch time . what should I do ?]',\n",
        "                                  safety_settings={'HARASSMENT':'block_none'})\n",
        "response.text\n"
      ],
      "metadata": {
        "colab": {
          "base_uri": "https://localhost:8080/",
          "height": 123
        },
        "id": "gln3hHGohSoh",
        "outputId": "39c92053-cd18-4db6-e153-9e38d4119a5f"
      },
      "execution_count": 40,
      "outputs": [
        {
          "output_type": "execute_result",
          "data": {
            "text/plain": [
              "\"1. **Communicate with the Parents**:\\n   - Politely approach the parents of the babies and express your concerns. Explain that their babies' crying is affecting your lunch break.\\n   - Suggest that they take their babies to a quieter area to soothe or feed them.\\n\\n2. **Request Quiet Zone**:\\n   - Inquire if your workplace or building has a designated quiet zone or break area where you can go to have your lunch in peace.\\n   - If there is no such area, consider creating one to provide a distraction-free space for employees.\\n\\n3. **Noise-Canceling Headphones**:\\n   - Invest in a good pair of noise-canceling headphones. These headphones will effectively block out most of the background noise, allowing you to focus on your meal.\\n\\n4. **Ear Plugs**:\\n   - Ear plugs are an affordable and portable alternative to noise-canceling headphones. They can be used to reduce the volume of the babies' crying.\\n\\n5. **Ask for Help**:\\n   - If the parents are unresponsive or unable to control their babies' crying, don't hesitate to ask a colleague or manager for assistance.\\n   - They may be able to mediate the situation or find a more suitable place for the babies to be taken care of.\\n\\n6. **Take Your Lunch Elsewhere**:\\n   - If none of the above solutions work, consider taking your lunch outside of the workplace. You could go to a nearby park, cafe, or your car to have your meal in peace.\\n\\n7. **Document the Issue**:\\n   - Keep a record of the dates, times, and duration of the disturbances caused by the babies.\\n   - This documentation may be useful if you need to escalate the issue to your manager or HR department.\\n\\n8. **Follow Company Policies**:\\n   - Familiarize yourself with your company's policies regarding noise and distractions in the workplace.\\n   - If the babies' crying is creating a hostile or disruptive work environment, you may have the right to file a complaint with your HR department.\""
            ],
            "application/vnd.google.colaboratory.intrinsic+json": {
              "type": "string"
            }
          },
          "metadata": {},
          "execution_count": 40
        }
      ]
    },
    {
      "cell_type": "markdown",
      "source": [
        "## New Section"
      ],
      "metadata": {
        "id": "aCTkAtedinI1"
      }
    },
    {
      "cell_type": "markdown",
      "source": [
        "###Encode messages\n"
      ],
      "metadata": {
        "id": "PK0ErDuZhtIX"
      }
    },
    {
      "cell_type": "code",
      "source": [],
      "metadata": {
        "id": "bA2iD9Y2hsw2"
      },
      "execution_count": 44,
      "outputs": []
    }
  ]
}